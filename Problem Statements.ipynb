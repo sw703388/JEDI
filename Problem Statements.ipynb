{
 "cells": [
  {
   "cell_type": "markdown",
   "metadata": {},
   "source": [
    "\n",
    "Problem Statement **1**: **Simple Budget Tracker**\n",
    "\n",
    "**Objective:**  \n",
    "Create a Python program that helps users track their daily expenses and calculate their remaining budget for the month.\n",
    "\n",
    "**Background:**  \n",
    "Managing personal finances is essential, and one of the first steps in doing so is keeping track of daily expenses. As a beginner in Python, you will create a simple application that allows users to input their daily expenses and view their remaining budget.\n",
    "\n",
    "**Requirements:**\n",
    "\n",
    "1.  **Input:**\n",
    "    \n",
    "    -   The program should start by asking the user for their total budget for the month.\n",
    "    -   Each day, the user can input their daily expenses in various categories (e.g., food, transportation, entertainment).\n",
    "2.  **Process:**\n",
    "    \n",
    "    -   The program should keep a running total of the expenses.\n",
    "    -   After each input, the program should update the total expenses and subtract it from the monthly budget to show the remaining budget.\n",
    "3.  **Output:**\n",
    "    \n",
    "    -   Display the total amount spent so far.\n",
    "    -   Display the remaining budget.\n",
    "    -   If the user tries to spend more than their remaining budget, the program should display a warning message.\n",
    "4.  **Bonus Features:**\n",
    "    \n",
    "    -   Allow users to categorize their expenses and display a breakdown of expenses by category.\n",
    "    -   Add the ability for the user to reset their budget and start over."
   ]
  },
  {
   "cell_type": "code",
   "execution_count": null,
   "metadata": {},
   "outputs": [],
   "source": []
  }
 ],
 "metadata": {
  "language_info": {
   "name": "python"
  }
 },
 "nbformat": 4,
 "nbformat_minor": 2
}
